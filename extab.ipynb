{
 "cells": [
  {
   "cell_type": "code",
   "execution_count": 25,
   "metadata": {},
   "outputs": [],
   "source": [
    "import pymupdf\n",
    "\n",
    "file_path = './pdf/'"
   ]
  },
  {
   "cell_type": "code",
   "execution_count": 26,
   "metadata": {},
   "outputs": [],
   "source": [
    "def open_pdf(file_name: str):\n",
    "    return pymupdf.open(file_path + file_name)"
   ]
  },
  {
   "cell_type": "code",
   "execution_count": 27,
   "metadata": {},
   "outputs": [],
   "source": [
    "#pdf1 = open_pdf('100382.pdf')\n",
    "\n",
    "#if (not pdf1):\n",
    "    #print('File not found')"
   ]
  },
  {
   "cell_type": "code",
   "execution_count": 148,
   "metadata": {},
   "outputs": [],
   "source": [
    "def get_abstract(pdf_object, lang=\"th\"):\n",
    "    key = \"บทคัด\" if lang == \"th\" else \"Abstract\"\n",
    "    first_found = 0\n",
    "    i = 0\n",
    "    while first_found < 1:\n",
    "        page = pdf_object.load_page(i) \n",
    "        inc = len(page.search_for(key))\n",
    "        first_found += inc\n",
    "        check_word = len(page.search_for(\"สารบัญ\"))\n",
    "        if check_word > 0:\n",
    "            first_found = 0\n",
    "        i += 1\n",
    "        if i > pdf_object.page_count - 1: return None\n",
    "\n",
    "    start_page = page.number\n",
    "    page_b = pdf_object.load_page(start_page)\n",
    "    bounds = ['คำสำคัญ', 'Key words', 'Keywords', 'ค ำส ำคัญ']\n",
    "    found_word_bounds = 0\n",
    "    for w in bounds:\n",
    "        if len(page_b.search_for(w)) > 1:\n",
    "            found_word_bounds += 1\n",
    "            \n",
    "    if found_word_bounds > 0:\n",
    "        end_page = page_b.number\n",
    "    else:\n",
    "        end_page = page_b.number + 1\n",
    "\n",
    "    if start_page == end_page: \n",
    "        text = pdf_object.load_page(start_page).get_text()\n",
    "    else:\n",
    "        text = pdf_object.load_page(start_page).get_text() + pdf_object.load_page(end_page).get_text()\n",
    "    \n",
    "    return text"
   ]
  },
  {
   "cell_type": "code",
   "execution_count": 29,
   "metadata": {},
   "outputs": [],
   "source": [
    "import os"
   ]
  },
  {
   "cell_type": "code",
   "execution_count": 30,
   "metadata": {},
   "outputs": [
    {
     "name": "stdout",
     "output_type": "stream",
     "text": [
      "['100374.pdf', '100375.pdf', '100376.pdf', '100377.pdf', '100378.pdf', '100379.pdf', '100380.pdf', '100381.pdf', '100382.pdf', '100383.pdf', '100384.pdf', '100385.pdf', '100386.pdf', '100387.pdf', '100388.pdf', '100389.pdf', '100390.pdf', '100391.pdf', '100392.pdf', '100393.pdf', '100394.pdf', '100395.pdf', '100396.pdf', '100397.pdf', '100398.pdf', '100399.pdf', '100400.pdf', '100401.pdf', '100402.pdf', '100403.pdf', '100404.pdf', '100405.pdf', '100406.pdf', '100407.pdf', '100408.pdf', '100409.pdf', '100410.pdf', '100411.pdf', '100412.pdf', '100413.pdf', '100414.pdf', '100415.pdf', '100416.pdf', '100417.pdf', '100418.pdf', '100419.pdf', '100420.pdf', '100421.pdf', '100422.pdf', '100423.pdf', '100424.pdf', '100425.pdf', '100426.pdf', '100427.pdf', '100428.pdf', '100429.pdf', '100430.pdf', '100431.pdf', '100432.pdf', '100433.pdf', '100434.pdf', '100435.pdf', '100436.pdf', '100437.pdf', '100438.pdf', '100439.pdf', '100440.pdf']\n"
     ]
    }
   ],
   "source": [
    "file_names = os.listdir(file_path)\n",
    "\n",
    "file_names.sort()\n",
    "\n",
    "print(file_names)"
   ]
  },
  {
   "cell_type": "code",
   "execution_count": 151,
   "metadata": {},
   "outputs": [],
   "source": [
    "def main():\n",
    "    data = []\n",
    "    for file_name in file_names:\n",
    "        print(file_name)\n",
    "        pdf = open_pdf(file_name)\n",
    "        ab_th = get_abstract(pdf, \"th\")\n",
    "        ab_eng = get_abstract(pdf, \"eng\")\n",
    "        data.append({\n",
    "            \"file_name\": file_name,\n",
    "            \"abstract_th\": ab_th,\n",
    "            \"abstract_eng\": ab_eng\n",
    "        })\n",
    "    return data"
   ]
  },
  {
   "cell_type": "code",
   "execution_count": 152,
   "metadata": {},
   "outputs": [
    {
     "name": "stdout",
     "output_type": "stream",
     "text": [
      "100374.pdf\n",
      "100375.pdf\n",
      "100376.pdf\n",
      "100377.pdf\n",
      "100378.pdf\n",
      "100379.pdf\n",
      "100380.pdf\n",
      "100381.pdf\n",
      "100382.pdf\n",
      "100383.pdf\n",
      "100384.pdf\n",
      "100385.pdf\n",
      "100386.pdf\n",
      "100387.pdf\n",
      "100388.pdf\n",
      "100389.pdf\n",
      "100390.pdf\n",
      "100391.pdf\n",
      "100392.pdf\n",
      "100393.pdf\n",
      "100394.pdf\n",
      "100395.pdf\n",
      "100396.pdf\n",
      "100397.pdf\n",
      "100398.pdf\n",
      "100399.pdf\n",
      "100400.pdf\n",
      "100401.pdf\n",
      "100402.pdf\n",
      "100403.pdf\n",
      "100404.pdf\n",
      "100405.pdf\n",
      "100406.pdf\n",
      "100407.pdf\n",
      "100408.pdf\n",
      "100409.pdf\n",
      "100410.pdf\n",
      "100411.pdf\n",
      "100412.pdf\n",
      "100413.pdf\n",
      "100414.pdf\n",
      "100415.pdf\n",
      "100416.pdf\n",
      "100417.pdf\n",
      "100418.pdf\n",
      "100419.pdf\n",
      "100420.pdf\n",
      "100421.pdf\n",
      "100422.pdf\n",
      "100423.pdf\n",
      "100424.pdf\n",
      "100425.pdf\n",
      "100426.pdf\n",
      "100427.pdf\n",
      "100428.pdf\n",
      "100429.pdf\n",
      "100430.pdf\n",
      "100431.pdf\n",
      "100432.pdf\n",
      "100433.pdf\n",
      "100434.pdf\n",
      "100435.pdf\n",
      "100436.pdf\n",
      "100437.pdf\n",
      "100438.pdf\n",
      "100439.pdf\n",
      "100440.pdf\n"
     ]
    }
   ],
   "source": [
    "test1 = main()"
   ]
  },
  {
   "cell_type": "code",
   "execution_count": 33,
   "metadata": {},
   "outputs": [],
   "source": [
    "import pandas as pd"
   ]
  },
  {
   "cell_type": "code",
   "execution_count": 153,
   "metadata": {},
   "outputs": [
    {
     "data": {
      "text/html": [
       "<div>\n",
       "<style scoped>\n",
       "    .dataframe tbody tr th:only-of-type {\n",
       "        vertical-align: middle;\n",
       "    }\n",
       "\n",
       "    .dataframe tbody tr th {\n",
       "        vertical-align: top;\n",
       "    }\n",
       "\n",
       "    .dataframe thead th {\n",
       "        text-align: right;\n",
       "    }\n",
       "</style>\n",
       "<table border=\"1\" class=\"dataframe\">\n",
       "  <thead>\n",
       "    <tr style=\"text-align: right;\">\n",
       "      <th></th>\n",
       "      <th>file_name</th>\n",
       "      <th>abstract_th</th>\n",
       "      <th>abstract_eng</th>\n",
       "    </tr>\n",
       "  </thead>\n",
       "  <tbody>\n",
       "    <tr>\n",
       "      <th>0</th>\n",
       "      <td>100374.pdf</td>\n",
       "      <td>ก \\n \\nการพยาบาลผู้ป่วยติดเชื้อไซโตเมกะโลไวรัส...</td>\n",
       "      <td>ข \\nNURSING CARE OF PATIENTS INFECTEDWITH CYTO...</td>\n",
       "    </tr>\n",
       "    <tr>\n",
       "      <th>1</th>\n",
       "      <td>100375.pdf</td>\n",
       "      <td>- ก - \\nบทคัดย่อ \\n \\nบทความวิจัยนี้มีวัตถุประ...</td>\n",
       "      <td>- ข - \\n \\n \\nAbstract \\n \\nThe purpose of thi...</td>\n",
       "    </tr>\n",
       "    <tr>\n",
       "      <th>2</th>\n",
       "      <td>100376.pdf</td>\n",
       "      <td>ค \\n \\nข \\n       สมรรถนะพยาบาลวิชาชีพด้านการ...</td>\n",
       "      <td>ง \\n \\nค \\nAbstract \\n            In the situ...</td>\n",
       "    </tr>\n",
       "    <tr>\n",
       "      <th>3</th>\n",
       "      <td>100377.pdf</td>\n",
       "      <td>None</td>\n",
       "      <td>None</td>\n",
       "    </tr>\n",
       "    <tr>\n",
       "      <th>4</th>\n",
       "      <td>100378.pdf</td>\n",
       "      <td>ค \\n \\nบทคัดย่อ \\n \\nโรคติดเชื้อไวรัสโคโรนา 20...</td>\n",
       "      <td>ง \\n \\nAbstract \\n \\nCOVID-19 is an emerging d...</td>\n",
       "    </tr>\n",
       "    <tr>\n",
       "      <th>...</th>\n",
       "      <td>...</td>\n",
       "      <td>...</td>\n",
       "      <td>...</td>\n",
       "    </tr>\n",
       "    <tr>\n",
       "      <th>62</th>\n",
       "      <td>100436.pdf</td>\n",
       "      <td>ก \\n \\n  \\n \\nผลของมาตรการควบคุมยุงพาหะน าโรคไ...</td>\n",
       "      <td>ข \\n \\n  \\n \\nEffects of Zika mosquito control...</td>\n",
       "    </tr>\n",
       "    <tr>\n",
       "      <th>63</th>\n",
       "      <td>100437.pdf</td>\n",
       "      <td>None</td>\n",
       "      <td>None</td>\n",
       "    </tr>\n",
       "    <tr>\n",
       "      <th>64</th>\n",
       "      <td>100438.pdf</td>\n",
       "      <td>ก \\n \\nบทคัดย่อภาษาไทย \\n \\nความสำคัญและวัตถุป...</td>\n",
       "      <td>None</td>\n",
       "    </tr>\n",
       "    <tr>\n",
       "      <th>65</th>\n",
       "      <td>100439.pdf</td>\n",
       "      <td>ข \\nบทคัดย่อ \\n \\nการประเมินผลและวิเคราะห์บทเร...</td>\n",
       "      <td>None</td>\n",
       "    </tr>\n",
       "    <tr>\n",
       "      <th>66</th>\n",
       "      <td>100440.pdf</td>\n",
       "      <td>II \\n \\n \\nบทคัดย่อ \\nการศึกษาครั้งนี้มีวัตถุป...</td>\n",
       "      <td>III \\n \\n \\nAbstract \\nThe objectives of this ...</td>\n",
       "    </tr>\n",
       "  </tbody>\n",
       "</table>\n",
       "<p>67 rows × 3 columns</p>\n",
       "</div>"
      ],
      "text/plain": [
       "     file_name                                        abstract_th  \\\n",
       "0   100374.pdf  ก \\n \\nการพยาบาลผู้ป่วยติดเชื้อไซโตเมกะโลไวรัส...   \n",
       "1   100375.pdf  - ก - \\nบทคัดย่อ \\n \\nบทความวิจัยนี้มีวัตถุประ...   \n",
       "2   100376.pdf   ค \\n \\nข \\n       สมรรถนะพยาบาลวิชาชีพด้านการ...   \n",
       "3   100377.pdf                                               None   \n",
       "4   100378.pdf  ค \\n \\nบทคัดย่อ \\n \\nโรคติดเชื้อไวรัสโคโรนา 20...   \n",
       "..         ...                                                ...   \n",
       "62  100436.pdf  ก \\n \\n  \\n \\nผลของมาตรการควบคุมยุงพาหะน าโรคไ...   \n",
       "63  100437.pdf                                               None   \n",
       "64  100438.pdf  ก \\n \\nบทคัดย่อภาษาไทย \\n \\nความสำคัญและวัตถุป...   \n",
       "65  100439.pdf  ข \\nบทคัดย่อ \\n \\nการประเมินผลและวิเคราะห์บทเร...   \n",
       "66  100440.pdf  II \\n \\n \\nบทคัดย่อ \\nการศึกษาครั้งนี้มีวัตถุป...   \n",
       "\n",
       "                                         abstract_eng  \n",
       "0   ข \\nNURSING CARE OF PATIENTS INFECTEDWITH CYTO...  \n",
       "1   - ข - \\n \\n \\nAbstract \\n \\nThe purpose of thi...  \n",
       "2    ง \\n \\nค \\nAbstract \\n            In the situ...  \n",
       "3                                                None  \n",
       "4   ง \\n \\nAbstract \\n \\nCOVID-19 is an emerging d...  \n",
       "..                                                ...  \n",
       "62  ข \\n \\n  \\n \\nEffects of Zika mosquito control...  \n",
       "63                                               None  \n",
       "64                                               None  \n",
       "65                                               None  \n",
       "66  III \\n \\n \\nAbstract \\nThe objectives of this ...  \n",
       "\n",
       "[67 rows x 3 columns]"
      ]
     },
     "execution_count": 153,
     "metadata": {},
     "output_type": "execute_result"
    }
   ],
   "source": [
    "df = pd.DataFrame(test1)\n",
    "\n",
    "df"
   ]
  },
  {
   "cell_type": "code",
   "execution_count": 154,
   "metadata": {},
   "outputs": [
    {
     "name": "stdout",
     "output_type": "stream",
     "text": [
      " \n",
      " \n",
      "III \n",
      "บทคัดย่อ \n",
      "การศึกษาสถานการณ์โรคคอตีบและปัจจัยที่มีความสัมพันธ์กับการเสียชีวิต\n",
      "ของผู้ป่วยโรคคอตีบ ประเทศไทย พ.ศ. 2546 - 2563 \n",
      "สมาน สยุมภูรุจินันท์ \n",
      "กองระบาดวิทยา กรมควบคุมโรค กระทรวงสาธารณสุข \n",
      "บทคัดย่อ \n",
      "บทน า : ในช่วงก่อนการพัฒนาวัคซีน โรคคอตีบเป็นโรคติดเชื้อที่เป็นสาเหตุส าคัญของการเสียชีวิตในวัยเด็ก \n",
      "หลังจากที่ได้มีการพัฒนาวัคซีนในปี พ.ศ. 2466 และมีการให้วัคซีนป้องกันโรคคอตีบ-บาดทะยัก-ไอกรน (DTP) \n",
      "ในประเทศสหรัฐอเมริกา และในกลุ่มประเทศอุตสาหกรรม ในปี พ.ศ. 2483 - 2484 อุบัติการณ์การเกิดโรคคอตีบ\n",
      "ในประเทศอุตสาหกรรมลดลงอย่างรวดเร็ว หลังสงครามโลกครั้งที่สอง โครงการขยายการสร้างเสริมภูมิคุ้มกันโรค \n",
      "ขององค์การอนามัยโลก ในปี พ.ศ. 2517 ท าให้อุบัติการณ์ในประเทศที่ด้อยพัฒนาก็ลดลงเดียวเช่นกับ\n",
      "การศึกษาครั้งนี้มีวัตถุประสงค์เพื่อศึกษาลักษณะทางระบาดวิทยาของผู้ป่วยโรคคอตีบ และปัจจัยที่มี\n",
      "ความสัมพันธ์กับการเสียชีวิต \n",
      "วิธีการศึกษา : เป็นการศึกษาระบาดวิทยาเชิงพรรณนา และระบาดวิทยาเชิงวิเคราะห์ โดยใช้ข้อมูลเฝ้าระวัง\n",
      "ทางระบาดวิทยา (รายงาน 506) ซึ่งเก็บรวบรวมจากส านักงานสาธารณสุขจังหวัดทั่วประเทศ ตั้งแต่ \n",
      "ปี พ.ศ. 2546 - 2563 นิยามผู้ป่วยที่ใช้ในการศึกษา คือ ผู้ป่วยที่มารับบริการในสถานบริการทางด้านสาธารณสุข \n",
      "ที่มีอาการตามนิยามการเฝ้าระวังโรคของกองระบาดวิทยา วิเคราะห์ข้อมูลโดยใช้สถิติเชิงพรรณนา ได้แก่ \n",
      "จ านวน ร้อยละ และสถิติเชิงวิเคราะห์โดยใช้ Chi square test และ Binary Logistic Regression และทดสอบหา\n",
      "ปัจจัยที่มีความสัมพันธ์กับการเสียชีวิต โดยใช้ Odds ratio (OR), 95% Confidence Interval (CI)  \n",
      "ผลการศึกษา : สถานการณ์แนวโน้มของผู้ป่วยโรคคอตีบ ประเทศไทย ระหว่างปี พ.ศ. 2546 - 2552  \n",
      "มีแนวโน้มลดลง ในปี พ.ศ. 2553 มีการระบาดของโรคคอตีบ มีรายงานผู้ป่วยเพิ่มเป็น 77 ราย ปี พ.ศ. 2554 \n",
      "จ านวนผู้ป่วยลดลง และพบการระบาดอีกครั้งในปี พ.ศ. 2555 มีรายงานผู้ป่วย 63 ราย หลังจากนั้น \n",
      "ในปี พ.ศ. 2556 - 2563 จ านวนผู้ป่วยโรคคอตีบได้ลดลงมาตามล าดับ แม้ว่าอัตราป่วยด้วยโรคคอตีบ \n",
      "จะมีแนวโน้มลดลงแต่อัตราป่วยตายของโรคคอตีบยังคงสูง นับตั้งแต่ปี พ.ศ. 2546 - 2563 มีรายงานผู้ป่วย\n",
      "เสียชีวิต 81 ราย โดยพบเพศชายร้อยละ 47.7 อัตราส่วนเพศหญิงต่อเพศชายเท่ากับ 1 : 1.25 กลุ่มอายุที่ \n",
      "พบสูงสุด คือ กลุ่มอายุ 0 - 4 ปี พบร้อยละ 36.2 และเมื่อน ามาทดสอบทางสถิติด้วย Binary Logistic \n",
      "Regression พบว่า ผู้ป่วยที่อาศัยในเขตภาคใต้ มีความเสี่ยงต่อการเสียชีวิตมากกว่าภาคอื่นๆ 2.82 เท่า อย่างมี\n",
      "นัยส าคัญทางสถิติ (P - value < 0.01)  \n",
      " \n",
      " \n",
      " \n",
      " \n",
      "สรุปและอภิปรายผล : อัตราป่วยตายด้วยโรคคอตีบ พบสูงมากในกลุ่มอายุ 0 - 4 ปี และภาคใต้เป็นพื้นที่       \n",
      "ที่พบผู้ป่วยและผู้เสียชีวิตสูงสุด มาตรการป้องกันควบคุมโรค คือ การเพิ่มความครอบคลุมการสร้างเสริม\n",
      "ภูมิคุ้มกันโรคในพื้นที่ 3 จังหวัดชายแดนภาคใต้ โดยกระบวนการมีส่วนร่วมทุกภาคส่วน เพื่อให้หน่วยงาน\n",
      "ผู้เกี่ยวข้องสามารถน าไปด าเนินการบรรลุเป้าหมายของการสร้างเสริมภูมิคุ้มกันโรคด้วยวัคซีน \n",
      "ค าส าคัญ : โรคคอตีบ, ปัจจัยที่มีความสัมพันธ์กับการเสียชีวิต, ประเทศไทย, อัตราตาย, อัตราป่วยตาย \n",
      " \n",
      " \n",
      " \n",
      " \n",
      " \n",
      " \n",
      " \n",
      " \n",
      " \n",
      " \n",
      " \n",
      " \n",
      " \n",
      " \n",
      " \n",
      " \n",
      "\n"
     ]
    }
   ],
   "source": [
    "print(df['abstract_th'][14])"
   ]
  },
  {
   "cell_type": "code",
   "execution_count": 37,
   "metadata": {},
   "outputs": [],
   "source": [
    "from groq import Groq\n",
    "from dotenv import load_dotenv"
   ]
  },
  {
   "cell_type": "code",
   "execution_count": 40,
   "metadata": {},
   "outputs": [],
   "source": [
    "load_dotenv()\n",
    "API_KEY = os.environ.get(\"GROQ_API_KEY\")"
   ]
  },
  {
   "cell_type": "code",
   "execution_count": 41,
   "metadata": {},
   "outputs": [],
   "source": [
    "client = Groq(\n",
    "    api_key = API_KEY,\n",
    ")"
   ]
  },
  {
   "cell_type": "code",
   "execution_count": 163,
   "metadata": {},
   "outputs": [],
   "source": [
    "example = \"\"\"<example>\n",
    "            <item><incorrect>ข้อผิดพลาด: ป ้องก ัน</incorrect>\n",
    "            <correct>ที่ถูกต้อง: ป้องกัน</correct></item>\n",
    "            <item><incorrect>ข้อผิดพลาด: พระราชด าริฯ</incorrect>\n",
    "            <correct>ที่ถูกต้อง: พระราชดำริฯ</correct></item>\n",
    "            <item><incorrect>ข้อผิดพลาด: ค าส าคัญ</incorrect>\n",
    "            <correct>ที่ถูกต้อง: คำสำคัญ</correct></item>\n",
    "            <item><incorrect>ข้อผิดพลาด: ต าบล อ าเภอ</incorrect>\n",
    "            <correct>ที่ถูกต้อง: ตำบล อำเภอ</correct></item>\n",
    "            <item><incorrect>ข้อมูลพลาด: ผู้อ านวยการ</incorrect>\n",
    "            <correct>ที่ถูกต้อง: ผู้อำนวยการ</correct></item>\n",
    "            <item><incorrect>ข้อผิดพลาด: บทน า</incorrect>\n",
    "            <correct>ที่ถูกต้อง: บทนำ</correct></item>\n",
    "        </example>\"\"\""
   ]
  },
  {
   "cell_type": "code",
   "execution_count": 165,
   "metadata": {},
   "outputs": [],
   "source": [
    "prompt_th = f\"ฉันอยากให้คุณช่วยฉันแก้ไขบทคัดย่อภาษาไทยที่ฉัน extract ออกมาจากไฟล์ PDF ซึ่งมักจะพบข้อผิดพลาดของสระ โดยเฉพาะสระอำ ตัวอย่างเช่น {example} และยังมีข้อผิดพลาดในส่วของ line break ที่ทำให้คำถูกแยกบรรทัดอย่างไม่ถูกต้อง หน้าที่ของคุณคือแก้ไขข้อผิดพลาดดังที่กล่าวมาข้างต้นในบทคัดย่อโดยห้ามเปลี่ยนแปลงคำหรือข้อความใดๆ ในบทคัดย่อเด็ดขาด หลังจากที่แก้ไขข้อความเสร็จแล้ว ฉันอยากให้คุณคัดเฉพาะเนื้อหาในบทคัดย่อ โดยไม่รวมคำว่าบทคัดย่อ และคำสำคัญ คุณไม่จำเป็นต้องอธิบายหรือกล่าวอะไรเพิ่มเติมเกี่ยวกับการแก้ไชข้อความ ฉันต้องการเฉพาะเนื้อหาบทคัดย่อเท่านั้น และนี่คือข้อความที่ฉันอยากให้คุณช่วย :\"\n",
    "\n",
    "prompt_eng = \"Help me extract abstract of article from text I extract from PDF page, the text might contain many things but I want only content of abstract not include abstract title or keywords, and you do not need to explain any thing or alter the original words in the abstract. here is the text: \"\n"
   ]
  },
  {
   "cell_type": "code",
   "execution_count": 102,
   "metadata": {},
   "outputs": [
    {
     "name": "stdout",
     "output_type": "stream",
     "text": [
      "ช่วยฉันแก้ไขข้อความภาษาไทยที่ extract ออกมาจากไฟล์ PDF ซึ่งมักจะพบข้อผิดพลาดของสระในภาษาไทย โดยเฉพาะสระอำ ตัวอย่างเช่น <example>\n",
      "            <incorrect>ข้อผิดพลาด: ป ้องก ัน</incorrect>\n",
      "            <correct>ที่ถูกต้อง: ป้องกัน</correct>\n",
      "            <incorrect>ข้อผิดพลาด: พระราชด าริฯ</incorrect>\n",
      "            <correct>ที่ถูกต้อง: พระราชดำริฯ</correct>\n",
      "            <incorrect>ข้อผิดพลาด: ค าส าคัญ</incorrect>\n",
      "            <correct>ที่ถูกต้อง: คำสำคัญ</correct>\n",
      "            <incorrect>ข้อผิดพลาด: ต าบล อ าเภอ</incorrect>\n",
      "            <correct>ที่ถูกต้อง: ตำบล อำเภอ</correct>\n",
      "            <incorrect>ข้อมูลพลาด: ผู้อ านวยการ</incorrect>\n",
      "            <correct>ที่ถูกต้อง: ผู้อำนวยการ</correct>\n",
      "            <incorrect>ข้อผิดพลาด: บทน า</incorrect>\n",
      "            <correct>ที่ถูกต้อง: บทนำ</correct>\n",
      "        </example> และยังมีข้อผิดพลาดในส่วของ line break ที่ทำให้คำถูกแยกบรรทัดอย่างไม่ถูกต้อง สิ่งที่สำคัญคือคุณห้ามเปลี่ยนแปลงคำต่าง ๆ ในบทความของผู้เขียน หลังจากที่แก้ไขข้อความเสร็จแล้ว ฉันอยากให้คุณคัดเฉพาะเนื้อหาในบทคัดย่อ โดยไม่รวมหัวข้อ (บทคัดย่อ) และคำสำคัญ คุณไม่จำเป็นต้องอธิบายหรือกล่าวอะไรเพิ่มเติม และนี่คือข้อความที่ฉันอยากให้ช่วย :\n"
     ]
    }
   ],
   "source": [
    "print(prompt_th)"
   ]
  },
  {
   "cell_type": "code",
   "execution_count": 99,
   "metadata": {},
   "outputs": [],
   "source": [
    "def chat(text: str, prompt: str, model=\"gemma2-9b-it\"):\n",
    "    chat_completion = client.chat.completions.create(\n",
    "        messages=[\n",
    "            {\n",
    "                \"role\": \"system\",\n",
    "                \"content\": \"You are a helpful research assistant who understand Thai language and culteral context as well as English.\",\n",
    "            },\n",
    "            {\n",
    "                \"role\": \"user\",\n",
    "                \"content\": prompt + text,\n",
    "            }\n",
    "        ],\n",
    "        model=model,\n",
    "        temperature=0,\n",
    "        max_tokens=2048,\n",
    "        stream=False,\n",
    "    )\n",
    "    return chat_completion"
   ]
  },
  {
   "cell_type": "code",
   "execution_count": 46,
   "metadata": {},
   "outputs": [],
   "source": [
    "abs = df[\"abstract_th\"][1]"
   ]
  },
  {
   "cell_type": "code",
   "execution_count": 75,
   "metadata": {},
   "outputs": [
    {
     "name": "stdout",
     "output_type": "stream",
     "text": [
      "<class 'groq.types.chat.chat_completion.ChatCompletion'>\n",
      "ChatCompletion(id='chatcmpl-b2368a64-1672-4ff0-9c74-801751e448da', choices=[Choice(finish_reason='stop', index=0, logprobs=None, message=ChatCompletionMessage(content='บทความวิจัยนี้มีวัตถุประสงค์เพื่อถอดบทเรียนการรับมือโรคติดเชื้อไวรัสโคโรนา 2019 ของกรมควบคุมโรค กระทรวงสาธารณสุข และเพื่อศึกษาการบริหารจัดการของภาครัฐและการดำเนินการต่างๆในสถานการณ์การแพร่ระบาดของโรคติดเชื้อไวรัสโคโรนา 2019 ซึ่งเป็นโรคระบาดใหม่ที่ยังไม่เป็นที่รู้จักมาก่อน เพื่อเป็นการเตรียมความพร้อมในการควบคุมโรคในภาวะฉุกเฉิน โดยศึกษาการระบาดของโรคโควิด-19 ตั้งแต่ระลอกที่ 1 จนถึงระลอกที่ 4 การจัดการวัคซีนที่มีจำนวนจำกัดในช่วงแรก การตอบโต้ ข้อมูลข่าวสารเพื่อเป็นจุดเริ่มต้นของการสร้างความรอบรู้ด้านสุขภาพแก่ประชาชน การที่ภาครัฐออกมาเยียวยาผู้ที่ได้รับผลกระทบจากการแพร่ระบาดของการติดเชื้อ โดยเป็นงานวิจัยเชิงคุณภาพในมุมมองของผู้บริหารและเจ้าหน้าที่ผู้ปฏิบัติงานในระดับต่างๆ เก็บข้อมูลโดยศึกษาเอกสาร สื่อต่างๆ ที่เกี่ยวข้อง และการสัมภาษณ์เชิงลึกผู้บริหารและเจ้าหน้าที่ผู้ปฏิบัติงานในระดับต่างๆ รวม 38 คน วิเคราะห์ข้อมูลโดยการวิเคราะห์เนื้อหา ผลการวิจัยสรุปได้ดังนี้ รัฐบาลและกระทรวงสาธารณสุขจะต้องระดมสรรพกำลังจากภาควิชาการ ทั้งโรงเรียนแพทย์และนักวิชาการ เพื่อเร่งทำความเข้าใจกับโรคโดยเร็วเพื่อที่จะได้ออกมาตรการได้อย่างทันท่วงที และเหมาะสม โดยเฉพาะ การออกมาตรการที่จะมีผลกระทบทางเศรษฐกิจและสังคมการดำเนินชีวิตอย่างรุนแรง และกระทรวงสาธารณสุขจำเป็นที่จะต้องให้ความรู้แก่ประชาชนโดยเร็ว รวมไปถึงความชัดเจนโปร่งใสในการบริหารจัดการคน เงิน และสิ่งของ \\n\\n\\n\\n', role='assistant', function_call=None, tool_calls=None))], created=1726203147, model='gemma2-9b-it', object='chat.completion', system_fingerprint='fp_10c08bf97d', usage=CompletionUsage(completion_tokens=480, prompt_tokens=1555, total_tokens=2035, completion_time=0.872727273, prompt_time=0.064665279, queue_time=0.0029715799999999876, total_time=0.937392552), x_groq={'id': 'req_01j7mvkd96f0xb3f74ge6tybvy'})\n"
     ]
    }
   ],
   "source": [
    "res = chat(abs, prompt_th)\n",
    "\n",
    "print(type(res))\n",
    "print(res)"
   ]
  },
  {
   "cell_type": "code",
   "execution_count": 76,
   "metadata": {},
   "outputs": [
    {
     "name": "stdout",
     "output_type": "stream",
     "text": [
      "บทความวิจัยนี้มีวัตถุประสงค์เพื่อถอดบทเรียนการรับมือโรคติดเชื้อไวรัสโคโรนา 2019 ของกรมควบคุมโรค กระทรวงสาธารณสุข และเพื่อศึกษาการบริหารจัดการของภาครัฐและการดำเนินการต่างๆในสถานการณ์การแพร่ระบาดของโรคติดเชื้อไวรัสโคโรนา 2019 ซึ่งเป็นโรคระบาดใหม่ที่ยังไม่เป็นที่รู้จักมาก่อน เพื่อเป็นการเตรียมความพร้อมในการควบคุมโรคในภาวะฉุกเฉิน โดยศึกษาการระบาดของโรคโควิด-19 ตั้งแต่ระลอกที่ 1 จนถึงระลอกที่ 4 การจัดการวัคซีนที่มีจำนวนจำกัดในช่วงแรก การตอบโต้ ข้อมูลข่าวสารเพื่อเป็นจุดเริ่มต้นของการสร้างความรอบรู้ด้านสุขภาพแก่ประชาชน การที่ภาครัฐออกมาเยียวยาผู้ที่ได้รับผลกระทบจากการแพร่ระบาดของการติดเชื้อ โดยเป็นงานวิจัยเชิงคุณภาพในมุมมองของผู้บริหารและเจ้าหน้าที่ผู้ปฏิบัติงานในระดับต่างๆ เก็บข้อมูลโดยศึกษาเอกสาร สื่อต่างๆ ที่เกี่ยวข้อง และการสัมภาษณ์เชิงลึกผู้บริหารและเจ้าหน้าที่ผู้ปฏิบัติงานในระดับต่างๆ รวม 38 คน วิเคราะห์ข้อมูลโดยการวิเคราะห์เนื้อหา ผลการวิจัยสรุปได้ดังนี้ รัฐบาลและกระทรวงสาธารณสุขจะต้องระดมสรรพกำลังจากภาควิชาการ ทั้งโรงเรียนแพทย์และนักวิชาการ เพื่อเร่งทำความเข้าใจกับโรคโดยเร็วเพื่อที่จะได้ออกมาตรการได้อย่างทันท่วงที และเหมาะสม โดยเฉพาะ การออกมาตรการที่จะมีผลกระทบทางเศรษฐกิจและสังคมการดำเนินชีวิตอย่างรุนแรง และกระทรวงสาธารณสุขจำเป็นที่จะต้องให้ความรู้แก่ประชาชนโดยเร็ว รวมไปถึงความชัดเจนโปร่งใสในการบริหารจัดการคน เงิน และสิ่งของ \n",
      "\n",
      "\n",
      "\n",
      "\n"
     ]
    }
   ],
   "source": [
    "print(res.choices[0].message.content)"
   ]
  },
  {
   "cell_type": "code",
   "execution_count": 47,
   "metadata": {},
   "outputs": [],
   "source": [
    "abs2 = df[\"abstract_eng\"][0]"
   ]
  },
  {
   "cell_type": "code",
   "execution_count": 77,
   "metadata": {},
   "outputs": [
    {
     "name": "stdout",
     "output_type": "stream",
     "text": [
      "This report is a review of knowledge and nursing practice guideline for patient with cytomelovirus retinitis (CMVR) infection with a report of a case of CMVR. The aim of this report is to provide nursing staff who will be nursing CMVR patients with knowledge and practice guidelines in caring the patients which will enable the patients and relatives to understand how to self-care of themselves. Key medical intervention in treating the patients was to inject gancyclovir into vitreous chamber. The role of nurses in caring patients who will undergo intravitreal chamber injection includes practices before, during and after injection.  \n",
      "In the case report, the patient was 42 years old male who was found to be HIV infected. He visited Bamrasnaradura Infectious Institute to receive treatment in September 2019. His CD4 count was 11 cells/cu.mm., and antiretroviral treatment was initiated at the same month. However, one month later, he complained of a floater in his left eye field and was diagnosed as cytomegalovirus retinal infection. He was then treated with ganciclovir intravitreal injection in October 2019. He also received nursing care according to the nursing practices guidelines, step by step. Treatment as well as nursing care was continued up to February 2020 and his visual acuity was improved. Based on the reviewed knowledge together with the nursing care provided to the patient, treatment of cytomegalovirus retinal infection in this case was successful. In addition, nursing care had promoted the understanding of the patient to be engaged in the treatment program. The patient was enabled to observe of abnormal symptoms and if occurred, he could notify to the doctors for prompt treatment which would prevent disability. \n",
      "\n",
      "\n",
      "\n",
      "\n"
     ]
    }
   ],
   "source": [
    "res2 = chat(abs2, prompt_eng)\n",
    "\n",
    "print(res2.choices[0].message.content)"
   ]
  },
  {
   "cell_type": "code",
   "execution_count": 160,
   "metadata": {},
   "outputs": [],
   "source": [
    "def custom_dedent(text):\n",
    "    # Split the text into lines\n",
    "    lines = text.splitlines()\n",
    "    \n",
    "    # If there's only one line, just return it stripped\n",
    "    if len(lines) <= 1:\n",
    "        return text.strip()\n",
    "    \n",
    "    # Find the minimum indentation (ignoring empty lines)\n",
    "    def non_empty_lines():\n",
    "        return (line for line in lines if line.strip())\n",
    "    \n",
    "    min_indent = min(len(line) - len(line.lstrip()) for line in non_empty_lines())\n",
    "    \n",
    "    # Remove the common indentation from all lines\n",
    "    dedented_lines = [\n",
    "        line[min_indent:] if line.strip() else ''\n",
    "        for line in lines\n",
    "    ]\n",
    "    \n",
    "    # Join the lines back together\n",
    "    return '\\n'.join(dedented_lines)"
   ]
  },
  {
   "cell_type": "code",
   "execution_count": 166,
   "metadata": {},
   "outputs": [
    {
     "name": "stdout",
     "output_type": "stream",
     "text": [
      "ฉันอยากให้คุณช่วยฉันแก้ไขบทคัดย่อภาษาไทยที่ฉัน extract ออกมาจากไฟล์ PDF ซึ่งมักจะพบข้อผิดพลาดของสระ โดยเฉพาะสระอำ ตัวอย่างเช่น <example> <item><incorrect>ข้อผิดพลาด: ป ้องก ัน</incorrect> <correct>ที่ถูกต้อง: ป้องกัน</correct></item> <item><incorrect>ข้อผิดพลาด: พระราชด าริฯ</incorrect> <correct>ที่ถูกต้อง: พระราชดำริฯ</correct></item> <item><incorrect>ข้อผิดพลาด: ค าส าคัญ</incorrect> <correct>ที่ถูกต้อง: คำสำคัญ</correct></item> <item><incorrect>ข้อผิดพลาด: ต าบล อ าเภอ</incorrect> <correct>ที่ถูกต้อง: ตำบล อำเภอ</correct></item> <item><incorrect>ข้อมูลพลาด: ผู้อ านวยการ</incorrect> <correct>ที่ถูกต้อง: ผู้อำนวยการ</correct></item> <item><incorrect>ข้อผิดพลาด: บทน า</incorrect> <correct>ที่ถูกต้อง: บทนำ</correct></item> </example> และยังมีข้อผิดพลาดในส่วของ line break ที่ทำให้คำถูกแยกบรรทัดอย่างไม่ถูกต้อง หน้าที่ของคุณคือแก้ไขข้อผิดพลาดดังที่กล่าวมาข้างต้นในบทคัดย่อโดยห้ามเปลี่ยนแปลงคำหรือข้อความใดๆ ในบทคัดย่อเด็ดขาด หลังจากที่แก้ไขข้อความเสร็จแล้ว ฉันอยากให้คุณคัดเฉพาะเนื้อหาในบทคัดย่อ โดยไม่รวมคำว่าบทคัดย่อ และคำสำคัญ คุณไม่จำเป็นต้องอธิบายหรือกล่าวอะไรเพิ่มเติมเกี่ยวกับการแก้ไชข้อความ ฉันต้องการเฉพาะเนื้อหาบทคัดย่อเท่านั้น และนี่คือข้อความที่ฉันอยากให้คุณช่วย :\n"
     ]
    }
   ],
   "source": [
    "dd =custom_dedent(prompt_th)\n",
    "\n",
    "flat_dd = ' '.join(dd.split())\n",
    "\n",
    "print(flat_dd)"
   ]
  },
  {
   "cell_type": "code",
   "execution_count": 150,
   "metadata": {},
   "outputs": [
    {
     "name": "stdout",
     "output_type": "stream",
     "text": [
      "ข้อความที่แก้ไขแล้ว:\n",
      "\n",
      "ประเมินระบบรายงานข้อมูลบริการเลิกบุหรี่แบบครบวงจร (โปรแกรมคลินิกฟ้าใส V. 2)\n",
      "\n",
      "ระบบรายงานข้อมูลบริการเลิกบุหรี่แบบครบวงจร (โปรแกรมคลินิกฟ้าใส V.2) ถูกสร้างขึ้นเพื่อเป็นฐานข้อมูลสำหรับติดตามการบำบัดรักษาผู้สูบบุหรี่ของประเทศไทย แต่ไม่เคยถูกประเมินมาก่อน งานวิจัยนี้เพื่อศึกษากระบวนการ คุณลักษณะเชิงปริมาณ เชิงคุณภาพ และให้ข้อเสนอแนะปรับปรุงโปรแกรมคลินิกฟ้าใส V.2 โดยเก็บข้อมูลแบบผสมวิธีในโรงพยาบาล 2 แห่ง การวิจัยเชิงปริมาณเลือกสุ่มเวชระเบียนผู้ป่วยที่มารับบริการในคลินิกเลิกบุหรี่หรือคลินิกโรคไม่ติดต่อในปีพ.ศ. 2564 เพื่อประเมินความครอบคลุม การรายงาน ค่าพยากรณ์บวก ความครบถ้วน ความถูกต้อง ความเป็นตัวแทน การวิจัยเชิงคุณภาพทำโดยสัมภาษณ์เจ้าหน้าที่ที่เกี่ยวข้องเกี่ยวกับกระบวนการ การใช้ประโยชน์ การยอมรับ ความยากง่าย ความยืดหยุ่น และความมั่นคง จากการทบทวนเวชระเบียนจำนวน 522 ราย พบว่าค่าความครอบคลุมร้อยละ 20.3 ค่าพยากรณ์บวกเท่ากับร้อยละ 61.98 ตัวแปรเพศและวันที่มารับบริการมีความครบถ้วนทั้งหมด แต่มีความถูกต้องร้อยละ 98.25 และ 61.99 ตามลำดับ ตัวแปรอายุมีค่าความถูกต้องทั้งหมด แต่มีความครบถ้วนร้อยละ 1.17 การรักษาที่ได้รับและผลการรักษาที่บันทึกในโปรแกรมคลินิกฟ้าใส V.2 มีความแตกต่างกับในเวชระเบียนมาก จึงมีข้อจำกัดในการเป็นตัวแทน ผู้ที่เกี่ยวข้องทุกระดับมีความเห็นตรงกันว่า การใช้โปรแกรมคลินิกฟ้าใส V. 2 มีประโยชน์ในการบันทึกข้อมูลสำหรับติดตามการรักษา การเลิกยาสูบ แต่ยังไม่มีการใช้ประโยชน์ดังกล่าวจริง รวมถึงไม่มีการใช้ในการกำหนดนโยบาย การเข้าใช้โปรแกรมและบันทึกข้อมูลไม่เสถียร ไม่สามารถแก้ไขข้อมูล และมีความซ้ำซ้อน ส่งผลให้ความครอบคลุมต่ำ จึงควรพัฒนาโปรแกรมให้เสถียรและเชื่อมโยงฐานข้อมูลฟ้าใส V.2 กับฐานข้อมูลโรงพยาบาล เพื่อเพิ่มคุณภาพข้อมูลและลดความซ้ำซ้อนของงาน เพิ่มเจ้าหน้าที่ทำงานด้านบุหรี่โดยเฉพาะ และประเมินโปรแกรมอย่างสม่ำเสมอ โดยเฉพาะหลังปรับปรุงโปรแกรมแล้ว\n"
     ]
    }
   ],
   "source": [
    "abs_test = get_abstract(open_pdf(file_names[8])) \n",
    "\n",
    "res_test = chat(abs_test, prompt_th, model=\"llama-3.1-70b-versatile\")\n",
    "\n",
    "print(res_test.choices[0].message.content)"
   ]
  },
  {
   "cell_type": "code",
   "execution_count": 58,
   "metadata": {},
   "outputs": [
    {
     "data": {
      "text/plain": [
       "14"
      ]
     },
     "execution_count": 58,
     "metadata": {},
     "output_type": "execute_result"
    }
   ],
   "source": [
    "df['abstract_th'].isnull().sum()"
   ]
  },
  {
   "cell_type": "code",
   "execution_count": 59,
   "metadata": {},
   "outputs": [],
   "source": [
    "import time"
   ]
  },
  {
   "cell_type": "code",
   "execution_count": 106,
   "metadata": {},
   "outputs": [],
   "source": [
    "def main_chat(df_list, prompt, model):\n",
    "    chat_data = []\n",
    "    for abs in df_list:\n",
    "        if abs is None:\n",
    "            chat_data.append(None)\n",
    "            continue\n",
    "        chat_response = chat(abs, prompt, model=model)\n",
    "        chat_data.append(chat_response.choices[0].message.content)\n",
    "        print(\"pass.\")\n",
    "        time.sleep(3)\n",
    "    return chat_data"
   ]
  },
  {
   "cell_type": "code",
   "execution_count": 167,
   "metadata": {},
   "outputs": [
    {
     "name": "stdout",
     "output_type": "stream",
     "text": [
      "pass.\n",
      "pass.\n",
      "pass.\n",
      "pass.\n",
      "pass.\n",
      "pass.\n",
      "pass.\n",
      "pass.\n",
      "pass.\n",
      "pass.\n",
      "pass.\n",
      "pass.\n",
      "pass.\n",
      "pass.\n",
      "pass.\n",
      "pass.\n",
      "pass.\n",
      "pass.\n",
      "pass.\n",
      "pass.\n",
      "pass.\n",
      "pass.\n",
      "pass.\n",
      "pass.\n",
      "pass.\n",
      "pass.\n",
      "pass.\n",
      "pass.\n",
      "pass.\n",
      "pass.\n",
      "pass.\n",
      "pass.\n",
      "pass.\n",
      "pass.\n",
      "pass.\n",
      "pass.\n",
      "pass.\n",
      "pass.\n",
      "pass.\n",
      "pass.\n",
      "pass.\n",
      "pass.\n",
      "pass.\n",
      "pass.\n",
      "pass.\n",
      "pass.\n",
      "pass.\n",
      "pass.\n",
      "pass.\n",
      "pass.\n",
      "pass.\n",
      "pass.\n",
      "pass.\n"
     ]
    }
   ],
   "source": [
    "fixed_abs_th = main_chat(df['abstract_th'], flat_dd, \"llama-3.1-70b-versatile\")"
   ]
  },
  {
   "cell_type": "code",
   "execution_count": 168,
   "metadata": {},
   "outputs": [
    {
     "data": {
      "text/plain": [
       "67"
      ]
     },
     "execution_count": 168,
     "metadata": {},
     "output_type": "execute_result"
    }
   ],
   "source": [
    "len(fixed_abs_th)"
   ]
  },
  {
   "cell_type": "code",
   "execution_count": 169,
   "metadata": {},
   "outputs": [
    {
     "data": {
      "text/plain": [
       "67"
      ]
     },
     "execution_count": 169,
     "metadata": {},
     "output_type": "execute_result"
    }
   ],
   "source": [
    "len(df['abstract_th'])"
   ]
  },
  {
   "cell_type": "code",
   "execution_count": 170,
   "metadata": {},
   "outputs": [],
   "source": [
    "df['fixed_abs_th'] = fixed_abs_th"
   ]
  },
  {
   "cell_type": "code",
   "execution_count": 111,
   "metadata": {},
   "outputs": [
    {
     "name": "stdout",
     "output_type": "stream",
     "text": [
      "pass.\n",
      "pass.\n",
      "pass.\n",
      "pass.\n",
      "pass.\n",
      "pass.\n",
      "pass.\n",
      "pass.\n",
      "pass.\n",
      "pass.\n",
      "pass.\n",
      "pass.\n",
      "pass.\n",
      "pass.\n",
      "pass.\n",
      "pass.\n",
      "pass.\n",
      "pass.\n",
      "pass.\n",
      "pass.\n",
      "pass.\n",
      "pass.\n",
      "pass.\n",
      "pass.\n",
      "pass.\n",
      "pass.\n",
      "pass.\n",
      "pass.\n",
      "pass.\n",
      "pass.\n",
      "pass.\n",
      "pass.\n",
      "pass.\n",
      "pass.\n",
      "pass.\n",
      "pass.\n",
      "pass.\n",
      "pass.\n",
      "pass.\n",
      "pass.\n",
      "pass.\n",
      "pass.\n",
      "pass.\n",
      "pass.\n",
      "pass.\n",
      "pass.\n",
      "pass.\n",
      "pass.\n",
      "pass.\n",
      "pass.\n",
      "pass.\n"
     ]
    }
   ],
   "source": [
    "fixed_abs_eng = main_chat(df['abstract_eng'], prompt_eng, \"llama-3.1-70b-versatile\")"
   ]
  },
  {
   "cell_type": "code",
   "execution_count": 113,
   "metadata": {},
   "outputs": [
    {
     "data": {
      "text/plain": [
       "67"
      ]
     },
     "execution_count": 113,
     "metadata": {},
     "output_type": "execute_result"
    }
   ],
   "source": [
    "len(fixed_abs_eng)"
   ]
  },
  {
   "cell_type": "code",
   "execution_count": 114,
   "metadata": {},
   "outputs": [],
   "source": [
    "df['fixed_abs_eng'] = fixed_abs_eng"
   ]
  },
  {
   "cell_type": "code",
   "execution_count": 115,
   "metadata": {},
   "outputs": [],
   "source": [
    "df.to_csv(\"extab-4.csv\", index=False, encoding='utf-8')"
   ]
  }
 ],
 "metadata": {
  "kernelspec": {
   "display_name": "abenv",
   "language": "python",
   "name": "python3"
  },
  "language_info": {
   "codemirror_mode": {
    "name": "ipython",
    "version": 3
   },
   "file_extension": ".py",
   "mimetype": "text/x-python",
   "name": "python",
   "nbconvert_exporter": "python",
   "pygments_lexer": "ipython3",
   "version": "3.10.12"
  }
 },
 "nbformat": 4,
 "nbformat_minor": 2
}
